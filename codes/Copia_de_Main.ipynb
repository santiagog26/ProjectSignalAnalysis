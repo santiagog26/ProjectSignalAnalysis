{
  "nbformat": 4,
  "nbformat_minor": 0,
  "metadata": {
    "kernelspec": {
      "display_name": "Python 3",
      "language": "python",
      "name": "python3"
    },
    "language_info": {
      "codemirror_mode": {
        "name": "ipython",
        "version": 3
      },
      "file_extension": ".py",
      "mimetype": "text/x-python",
      "name": "python",
      "nbconvert_exporter": "python",
      "pygments_lexer": "ipython3",
      "version": "3.8.3"
    },
    "colab": {
      "name": "Copia de Main.ipynb",
      "provenance": [],
      "collapsed_sections": [
        "DSCAmzlrL1WH",
        "0Ru3JQCe_lvw"
      ]
    }
  },
  "cells": [
    {
      "cell_type": "markdown",
      "metadata": {
        "id": "DSCAmzlrL1WH"
      },
      "source": [
        "# Colombia"
      ]
    },
    {
      "cell_type": "markdown",
      "metadata": {
        "id": "0HzxqRbLad2v"
      },
      "source": [
        "Import library"
      ]
    },
    {
      "cell_type": "code",
      "metadata": {
        "id": "b2qiuBYradgt"
      },
      "source": [
        "!pip install sodapy"
      ],
      "execution_count": null,
      "outputs": []
    },
    {
      "cell_type": "code",
      "metadata": {
        "id": "Z28b8-OzY2Eh",
        "outputId": "0db9b98a-c587-46f4-fa22-9b5f937b6a3e",
        "colab": {
          "base_uri": "https://localhost:8080/"
        }
      },
      "source": [
        "from sodapy import Socrata\n",
        "import pandas as pd\n",
        "from datetime import datetime\n",
        "import matplotlib.pyplot as plt\n",
        "from collections import Counter\n",
        "\n",
        "client = Socrata(\"www.datos.gov.co\", None) #Se determina la dirección de la cual se extraeran los datos\n",
        "results = client.get(\"gt2j-8ykr\", limit=1083321) #Se obtienen los datos y se establece un límite\n",
        "\n",
        "# Convertir a dataframe de pandas\n",
        "results_df = pd.DataFrame.from_records(results)\n",
        "df=results_df\n",
        "df = df.replace({'LEVE':'Leve'})\n",
        "df = df.replace({'leve':'Leve'})\n",
        "df = df.replace({'moderado':'Moderado'})\n",
        "df = df.replace({'En Estudio':'En estudio'})\n",
        "df = df.replace({'EN ESTUDIO':'En estudio'})\n",
        "df = df.replace({'relacionado':'Relacionado'})\n",
        "df = df.replace({'RELACIONADO':'Relacionado'})\n",
        "\n",
        "df.columns"
      ],
      "execution_count": null,
      "outputs": [
        {
          "output_type": "stream",
          "text": [
            "WARNING:root:Requests made without an app_token will be subject to strict throttling limits.\n"
          ],
          "name": "stderr"
        },
        {
          "output_type": "execute_result",
          "data": {
            "text/plain": [
              "Index(['fecha_reporte_web', 'id_de_caso', 'fecha_de_notificaci_n',\n",
              "       'departamento', 'departamento_nom', 'ciudad_municipio',\n",
              "       'ciudad_municipio_nom', 'edad', 'unidad_medida', 'sexo',\n",
              "       'fuente_tipo_contagio', 'ubicacion', 'estado', 'pais_viajo_1_cod',\n",
              "       'pais_viajo_1_nom', 'recuperado', 'fecha_inicio_sintomas',\n",
              "       'fecha_diagnostico', 'fecha_recuperado', 'tipo_recuperacion',\n",
              "       'per_etn_', 'fecha_muerte', 'nom_grupo_'],\n",
              "      dtype='object')"
            ]
          },
          "metadata": {
            "tags": []
          },
          "execution_count": 61
        }
      ]
    },
    {
      "cell_type": "code",
      "metadata": {
        "id": "_WIvoqmMY2Ep",
        "outputId": "ae625950-ca23-413e-919f-e8e668eea1d7",
        "colab": {
          "base_uri": "https://localhost:8080/",
          "height": 374
        }
      },
      "source": [
        "df=results_df\n",
        "\n",
        "df=df.fillna('No Definido') #Se llenan los datos vacíos\n",
        "tupla = ((\"T00:00:00.000\", \"\"),(\"-\", \"/\"))\n",
        "for c in df.index:\n",
        "    for a, b in tupla:\n",
        "        df['fecha_de_notificaci_n'][c] = df['fecha_de_notificaci_n'][c].replace(a, b)\n",
        "        df['fecha_inicio_sintomas'][c] = df['fecha_inicio_sintomas'][c].replace(a, b)\n",
        "        df['fecha_diagnostico'][c] = df['fecha_diagnostico'][c].replace(a, b)\n",
        "        df['fecha_recuperado'][c] = df['fecha_recuperado'][c].replace(a, b)\n",
        "        df['fecha_reporte_web'][c] = df['fecha_reporte_web'][c].replace(a, b)\n",
        "        df['fecha_muerte'][c] = df['fecha_muerte'][c].replace(a, b)\n",
        "df.head()"
      ],
      "execution_count": null,
      "outputs": [
        {
          "output_type": "error",
          "ename": "KeyboardInterrupt",
          "evalue": "ignored",
          "traceback": [
            "\u001b[0;31m---------------------------------------------------------------------------\u001b[0m",
            "\u001b[0;31mKeyboardInterrupt\u001b[0m                         Traceback (most recent call last)",
            "\u001b[0;32m<ipython-input-62-198f73cd157a>\u001b[0m in \u001b[0;36m<module>\u001b[0;34m()\u001b[0m\n\u001b[1;32m      5\u001b[0m \u001b[0;32mfor\u001b[0m \u001b[0mc\u001b[0m \u001b[0;32min\u001b[0m \u001b[0mdf\u001b[0m\u001b[0;34m.\u001b[0m\u001b[0mindex\u001b[0m\u001b[0;34m:\u001b[0m\u001b[0;34m\u001b[0m\u001b[0;34m\u001b[0m\u001b[0m\n\u001b[1;32m      6\u001b[0m     \u001b[0;32mfor\u001b[0m \u001b[0ma\u001b[0m\u001b[0;34m,\u001b[0m \u001b[0mb\u001b[0m \u001b[0;32min\u001b[0m \u001b[0mtupla\u001b[0m\u001b[0;34m:\u001b[0m\u001b[0;34m\u001b[0m\u001b[0;34m\u001b[0m\u001b[0m\n\u001b[0;32m----> 7\u001b[0;31m         \u001b[0mdf\u001b[0m\u001b[0;34m[\u001b[0m\u001b[0;34m'fecha_de_notificaci_n'\u001b[0m\u001b[0;34m]\u001b[0m\u001b[0;34m[\u001b[0m\u001b[0mc\u001b[0m\u001b[0;34m]\u001b[0m \u001b[0;34m=\u001b[0m \u001b[0mdf\u001b[0m\u001b[0;34m[\u001b[0m\u001b[0;34m'fecha_de_notificaci_n'\u001b[0m\u001b[0;34m]\u001b[0m\u001b[0;34m[\u001b[0m\u001b[0mc\u001b[0m\u001b[0;34m]\u001b[0m\u001b[0;34m.\u001b[0m\u001b[0mreplace\u001b[0m\u001b[0;34m(\u001b[0m\u001b[0ma\u001b[0m\u001b[0;34m,\u001b[0m \u001b[0mb\u001b[0m\u001b[0;34m)\u001b[0m\u001b[0;34m\u001b[0m\u001b[0;34m\u001b[0m\u001b[0m\n\u001b[0m\u001b[1;32m      8\u001b[0m         \u001b[0mdf\u001b[0m\u001b[0;34m[\u001b[0m\u001b[0;34m'fecha_inicio_sintomas'\u001b[0m\u001b[0;34m]\u001b[0m\u001b[0;34m[\u001b[0m\u001b[0mc\u001b[0m\u001b[0;34m]\u001b[0m \u001b[0;34m=\u001b[0m \u001b[0mdf\u001b[0m\u001b[0;34m[\u001b[0m\u001b[0;34m'fecha_inicio_sintomas'\u001b[0m\u001b[0;34m]\u001b[0m\u001b[0;34m[\u001b[0m\u001b[0mc\u001b[0m\u001b[0;34m]\u001b[0m\u001b[0;34m.\u001b[0m\u001b[0mreplace\u001b[0m\u001b[0;34m(\u001b[0m\u001b[0ma\u001b[0m\u001b[0;34m,\u001b[0m \u001b[0mb\u001b[0m\u001b[0;34m)\u001b[0m\u001b[0;34m\u001b[0m\u001b[0;34m\u001b[0m\u001b[0m\n\u001b[1;32m      9\u001b[0m         \u001b[0mdf\u001b[0m\u001b[0;34m[\u001b[0m\u001b[0;34m'fecha_diagnostico'\u001b[0m\u001b[0;34m]\u001b[0m\u001b[0;34m[\u001b[0m\u001b[0mc\u001b[0m\u001b[0;34m]\u001b[0m \u001b[0;34m=\u001b[0m \u001b[0mdf\u001b[0m\u001b[0;34m[\u001b[0m\u001b[0;34m'fecha_diagnostico'\u001b[0m\u001b[0;34m]\u001b[0m\u001b[0;34m[\u001b[0m\u001b[0mc\u001b[0m\u001b[0;34m]\u001b[0m\u001b[0;34m.\u001b[0m\u001b[0mreplace\u001b[0m\u001b[0;34m(\u001b[0m\u001b[0ma\u001b[0m\u001b[0;34m,\u001b[0m \u001b[0mb\u001b[0m\u001b[0;34m)\u001b[0m\u001b[0;34m\u001b[0m\u001b[0;34m\u001b[0m\u001b[0m\n",
            "\u001b[0;32m/usr/local/lib/python3.6/dist-packages/pandas/core/series.py\u001b[0m in \u001b[0;36m__setitem__\u001b[0;34m(self, key, value)\u001b[0m\n\u001b[1;32m   1027\u001b[0m \u001b[0;34m\u001b[0m\u001b[0m\n\u001b[1;32m   1028\u001b[0m         \u001b[0;32mif\u001b[0m \u001b[0mcacher_needs_updating\u001b[0m\u001b[0;34m:\u001b[0m\u001b[0;34m\u001b[0m\u001b[0;34m\u001b[0m\u001b[0m\n\u001b[0;32m-> 1029\u001b[0;31m             \u001b[0mself\u001b[0m\u001b[0;34m.\u001b[0m\u001b[0m_maybe_update_cacher\u001b[0m\u001b[0;34m(\u001b[0m\u001b[0;34m)\u001b[0m\u001b[0;34m\u001b[0m\u001b[0;34m\u001b[0m\u001b[0m\n\u001b[0m\u001b[1;32m   1030\u001b[0m \u001b[0;34m\u001b[0m\u001b[0m\n\u001b[1;32m   1031\u001b[0m     \u001b[0;32mdef\u001b[0m \u001b[0m_set_with_engine\u001b[0m\u001b[0;34m(\u001b[0m\u001b[0mself\u001b[0m\u001b[0;34m,\u001b[0m \u001b[0mkey\u001b[0m\u001b[0;34m,\u001b[0m \u001b[0mvalue\u001b[0m\u001b[0;34m)\u001b[0m\u001b[0;34m:\u001b[0m\u001b[0;34m\u001b[0m\u001b[0;34m\u001b[0m\u001b[0m\n",
            "\u001b[0;32m/usr/local/lib/python3.6/dist-packages/pandas/core/generic.py\u001b[0m in \u001b[0;36m_maybe_update_cacher\u001b[0;34m(self, clear, verify_is_copy)\u001b[0m\n\u001b[1;32m   3236\u001b[0m                 \u001b[0;32mif\u001b[0m \u001b[0mlen\u001b[0m\u001b[0;34m(\u001b[0m\u001b[0mself\u001b[0m\u001b[0;34m)\u001b[0m \u001b[0;34m==\u001b[0m \u001b[0mlen\u001b[0m\u001b[0;34m(\u001b[0m\u001b[0mref\u001b[0m\u001b[0;34m)\u001b[0m\u001b[0;34m:\u001b[0m\u001b[0;34m\u001b[0m\u001b[0;34m\u001b[0m\u001b[0m\n\u001b[1;32m   3237\u001b[0m                     \u001b[0;31m# otherwise, either self or ref has swapped in new arrays\u001b[0m\u001b[0;34m\u001b[0m\u001b[0;34m\u001b[0m\u001b[0;34m\u001b[0m\u001b[0m\n\u001b[0;32m-> 3238\u001b[0;31m                     \u001b[0mref\u001b[0m\u001b[0;34m.\u001b[0m\u001b[0m_maybe_cache_changed\u001b[0m\u001b[0;34m(\u001b[0m\u001b[0mcacher\u001b[0m\u001b[0;34m[\u001b[0m\u001b[0;36m0\u001b[0m\u001b[0;34m]\u001b[0m\u001b[0;34m,\u001b[0m \u001b[0mself\u001b[0m\u001b[0;34m)\u001b[0m\u001b[0;34m\u001b[0m\u001b[0;34m\u001b[0m\u001b[0m\n\u001b[0m\u001b[1;32m   3239\u001b[0m                 \u001b[0;32melse\u001b[0m\u001b[0;34m:\u001b[0m\u001b[0;34m\u001b[0m\u001b[0;34m\u001b[0m\u001b[0m\n\u001b[1;32m   3240\u001b[0m                     \u001b[0;31m# GH#33675 we have swapped in a new array, so parent\u001b[0m\u001b[0;34m\u001b[0m\u001b[0;34m\u001b[0m\u001b[0;34m\u001b[0m\u001b[0m\n",
            "\u001b[0;32m/usr/local/lib/python3.6/dist-packages/pandas/core/generic.py\u001b[0m in \u001b[0;36m_maybe_cache_changed\u001b[0;34m(self, item, value)\u001b[0m\n\u001b[1;32m   3197\u001b[0m         \"\"\"\n\u001b[1;32m   3198\u001b[0m         \u001b[0mloc\u001b[0m \u001b[0;34m=\u001b[0m \u001b[0mself\u001b[0m\u001b[0;34m.\u001b[0m\u001b[0m_info_axis\u001b[0m\u001b[0;34m.\u001b[0m\u001b[0mget_loc\u001b[0m\u001b[0;34m(\u001b[0m\u001b[0mitem\u001b[0m\u001b[0;34m)\u001b[0m\u001b[0;34m\u001b[0m\u001b[0;34m\u001b[0m\u001b[0m\n\u001b[0;32m-> 3199\u001b[0;31m         \u001b[0mself\u001b[0m\u001b[0;34m.\u001b[0m\u001b[0m_mgr\u001b[0m\u001b[0;34m.\u001b[0m\u001b[0miset\u001b[0m\u001b[0;34m(\u001b[0m\u001b[0mloc\u001b[0m\u001b[0;34m,\u001b[0m \u001b[0mvalue\u001b[0m\u001b[0;34m)\u001b[0m\u001b[0;34m\u001b[0m\u001b[0;34m\u001b[0m\u001b[0m\n\u001b[0m\u001b[1;32m   3200\u001b[0m \u001b[0;34m\u001b[0m\u001b[0m\n\u001b[1;32m   3201\u001b[0m     \u001b[0;34m@\u001b[0m\u001b[0mproperty\u001b[0m\u001b[0;34m\u001b[0m\u001b[0;34m\u001b[0m\u001b[0m\n",
            "\u001b[0;32m/usr/local/lib/python3.6/dist-packages/pandas/core/internals/managers.py\u001b[0m in \u001b[0;36miset\u001b[0;34m(self, loc, value)\u001b[0m\n\u001b[1;32m   1094\u001b[0m             \u001b[0mblk_locs\u001b[0m \u001b[0;34m=\u001b[0m \u001b[0mblklocs\u001b[0m\u001b[0;34m[\u001b[0m\u001b[0mval_locs\u001b[0m\u001b[0;34m.\u001b[0m\u001b[0mindexer\u001b[0m\u001b[0;34m]\u001b[0m\u001b[0;34m\u001b[0m\u001b[0;34m\u001b[0m\u001b[0m\n\u001b[1;32m   1095\u001b[0m             \u001b[0;32mif\u001b[0m \u001b[0mblk\u001b[0m\u001b[0;34m.\u001b[0m\u001b[0mshould_store\u001b[0m\u001b[0;34m(\u001b[0m\u001b[0mvalue\u001b[0m\u001b[0;34m)\u001b[0m\u001b[0;34m:\u001b[0m\u001b[0;34m\u001b[0m\u001b[0;34m\u001b[0m\u001b[0m\n\u001b[0;32m-> 1096\u001b[0;31m                 \u001b[0mblk\u001b[0m\u001b[0;34m.\u001b[0m\u001b[0mset\u001b[0m\u001b[0;34m(\u001b[0m\u001b[0mblk_locs\u001b[0m\u001b[0;34m,\u001b[0m \u001b[0mvalue_getitem\u001b[0m\u001b[0;34m(\u001b[0m\u001b[0mval_locs\u001b[0m\u001b[0;34m)\u001b[0m\u001b[0;34m)\u001b[0m\u001b[0;34m\u001b[0m\u001b[0;34m\u001b[0m\u001b[0m\n\u001b[0m\u001b[1;32m   1097\u001b[0m             \u001b[0;32melse\u001b[0m\u001b[0;34m:\u001b[0m\u001b[0;34m\u001b[0m\u001b[0;34m\u001b[0m\u001b[0m\n\u001b[1;32m   1098\u001b[0m                 \u001b[0munfit_mgr_locs\u001b[0m\u001b[0;34m.\u001b[0m\u001b[0mappend\u001b[0m\u001b[0;34m(\u001b[0m\u001b[0mblk\u001b[0m\u001b[0;34m.\u001b[0m\u001b[0mmgr_locs\u001b[0m\u001b[0;34m.\u001b[0m\u001b[0mas_array\u001b[0m\u001b[0;34m[\u001b[0m\u001b[0mblk_locs\u001b[0m\u001b[0;34m]\u001b[0m\u001b[0;34m)\u001b[0m\u001b[0;34m\u001b[0m\u001b[0;34m\u001b[0m\u001b[0m\n",
            "\u001b[0;32m/usr/local/lib/python3.6/dist-packages/pandas/core/internals/blocks.py\u001b[0m in \u001b[0;36mset\u001b[0;34m(self, locs, values)\u001b[0m\n\u001b[1;32m    329\u001b[0m         \u001b[0mcreate\u001b[0m \u001b[0ma\u001b[0m \u001b[0mnew\u001b[0m \u001b[0marray\u001b[0m \u001b[0;32mand\u001b[0m \u001b[0malways\u001b[0m \u001b[0mcreates\u001b[0m \u001b[0ma\u001b[0m \u001b[0mnew\u001b[0m \u001b[0mBlock\u001b[0m\u001b[0;34m.\u001b[0m\u001b[0;34m\u001b[0m\u001b[0;34m\u001b[0m\u001b[0m\n\u001b[1;32m    330\u001b[0m         \"\"\"\n\u001b[0;32m--> 331\u001b[0;31m         \u001b[0mself\u001b[0m\u001b[0;34m.\u001b[0m\u001b[0mvalues\u001b[0m\u001b[0;34m[\u001b[0m\u001b[0mlocs\u001b[0m\u001b[0;34m]\u001b[0m \u001b[0;34m=\u001b[0m \u001b[0mvalues\u001b[0m\u001b[0;34m\u001b[0m\u001b[0;34m\u001b[0m\u001b[0m\n\u001b[0m\u001b[1;32m    332\u001b[0m \u001b[0;34m\u001b[0m\u001b[0m\n\u001b[1;32m    333\u001b[0m     \u001b[0;32mdef\u001b[0m \u001b[0mdelete\u001b[0m\u001b[0;34m(\u001b[0m\u001b[0mself\u001b[0m\u001b[0;34m,\u001b[0m \u001b[0mloc\u001b[0m\u001b[0;34m)\u001b[0m \u001b[0;34m->\u001b[0m \u001b[0;32mNone\u001b[0m\u001b[0;34m:\u001b[0m\u001b[0;34m\u001b[0m\u001b[0;34m\u001b[0m\u001b[0m\n",
            "\u001b[0;31mKeyboardInterrupt\u001b[0m: "
          ]
        }
      ]
    },
    {
      "cell_type": "code",
      "metadata": {
        "id": "i3q8wkVgY2Eu"
      },
      "source": [
        "#Se convierten los datos de string a datatime object\n",
        "for c in df.index:\n",
        "    if(df['fecha_de_notificaci_n'][c]!='No Definido'):\n",
        "        df['fecha_de_notificaci_n'][c]=datetime.strptime(df['fecha_de_notificaci_n'][c], '%d/%m/%Y')\n",
        "    if(df['fecha_inicio_sintomas'][c]!='No Definido'):\n",
        "        df['fecha_inicio_sintomas'][c]=datetime.strptime(df['fecha_inicio_sintomas'][c], '%d/%m/%Y')\n",
        "    if(df['fecha_recuperado'][c]!='No Definido'):\n",
        "        df['fecha_recuperado'][c]=datetime.strptime(df['fecha_recuperado'][c], '%d/%m/%Y')\n",
        "    if(df['fecha_reporte_web'][c]!='No Definido'):\n",
        "        df['fecha_reporte_web'][c]=datetime.strptime(df['fecha_reporte_web'][c], '%d/%m/%Y')\n",
        "    if(df['fecha_muerte'][c]!='No Definido'):\n",
        "        df['fecha_muerte'][c]=datetime.strptime(df['fecha_muerte'][c], '%d/%m/%Y')"
      ],
      "execution_count": null,
      "outputs": []
    },
    {
      "cell_type": "code",
      "metadata": {
        "id": "yiL2MUPIY2Ey"
      },
      "source": [
        "x=[] \n",
        "x=df['fecha_de_notificaci_n'] #Se llena con la fecha de notificación \n",
        "c=Counter(x) #Se cuentan los datos según la fecha de notificación"
      ],
      "execution_count": null,
      "outputs": []
    },
    {
      "cell_type": "code",
      "metadata": {
        "id": "zfm5AdKbY2E1"
      },
      "source": [
        "df1 = pd.DataFrame() #Se crea una nueva referencia del DataFrame\n",
        "df1['Fecha']=c.keys() #Se extraen los elementos únicos\n",
        "df1['No. Casos']=c.values() #Se extrae la frecuencia de cada elemento único"
      ],
      "execution_count": null,
      "outputs": []
    },
    {
      "cell_type": "code",
      "metadata": {
        "id": "DVueZ5ETY2E5"
      },
      "source": [
        "df1=df1.sort_values(by='Fecha') #Se ordenan según la fecha "
      ],
      "execution_count": null,
      "outputs": []
    },
    {
      "cell_type": "code",
      "metadata": {
        "id": "HGcqQ49RY2E8",
        "outputId": "e9b8ad80-5d07-4a97-d211-2f973a76b80c",
        "colab": {
          "base_uri": "https://localhost:8080/",
          "height": 293
        }
      },
      "source": [
        "plt.xticks(rotation=120)\n",
        "x = df1['Fecha'] #Se asignan los valores al eje x\n",
        "y = df1['No. Casos'] #Se asignan los valores al eje y\n",
        "plt.plot(x,y) #Se grafica\n",
        "plt.xticks([0, 200, 400, 600])\n",
        "plt.title('Número de Casos')\n",
        "plt.xlabel('Fecha')\n",
        "plt.ylabel('No. Casos')\n",
        "plt.savefig('Número de Casos.png') #Se guarda la imagen"
      ],
      "execution_count": null,
      "outputs": [
        {
          "output_type": "display_data",
          "data": {
            "image/png": "[encoded data removed]",
            "text/plain": [
              "<Figure size 432x288 with 1 Axes>"
            ]
          },
          "metadata": {
            "tags": [],
            "needs_background": "light"
          }
        }
      ]
    },
    {
      "cell_type": "code",
      "metadata": {
        "id": "XcjpNNTJY2FC"
      },
      "source": [
        "import matplotlib\n",
        "import numpy as np\n",
        "\n",
        "y=[]\n",
        "y=df['ciudad_municipio_nom'] #Se llena con la ciudad\n",
        "d=Counter(y) #Se cuentan los datos según la ciudad "
      ],
      "execution_count": null,
      "outputs": []
    },
    {
      "cell_type": "code",
      "metadata": {
        "id": "g3zAyqRSY2FG"
      },
      "source": [
        "df2 = pd.DataFrame()\n",
        "df2['Ciudad']=d.keys() #Se extraen los elementos únicos\n",
        "df2['No. Casos']=d.values() #Se extrae la frecuencia de cada elemento único\n",
        "df2=df2.sort_values(by='No. Casos',ascending=False) #Se ordena según el número de casos "
      ],
      "execution_count": null,
      "outputs": []
    },
    {
      "cell_type": "code",
      "metadata": {
        "id": "LSiEaI8gY2FJ",
        "outputId": "b441a9ed-d145-4b49-da95-94bd6b9a79ac",
        "colab": {
          "base_uri": "https://localhost:8080/",
          "height": 458
        }
      },
      "source": [
        "plt.figure(figsize=(10,7)) #Se establece el tamaño de la figura\n",
        "#Colocamos etiquetas a los ejes\n",
        "plt.xlabel(\"Ciudades\")                       \n",
        "plt.ylabel(\"Número de Casos\") \n",
        "\n",
        "#Creamos la grafica de barras utilizando 'Ciudad' como eje X y 'Número de casos' como eje y.\n",
        "x = df2['Ciudad'].iloc[0:6]\n",
        "y = df2['No. Casos'].iloc[0:6]\n",
        "plt.title(\"Ciudades con mayor número de Contagiados\")\n",
        "plt.bar(x, y)\n",
        "#Finalmente mostramos la grafica con el metodo show()\n",
        "plt.savefig('Ciudades.png')\n",
        "plt.show()"
      ],
      "execution_count": null,
      "outputs": [
        {
          "output_type": "display_data",
          "data": {
            "image/png": "[encoded data removed]",
            "text/plain": [
              "<Figure size 720x504 with 1 Axes>"
            ]
          },
          "metadata": {
            "tags": [],
            "needs_background": "light"
          }
        }
      ]
    },
    {
      "cell_type": "code",
      "metadata": {
        "id": "8wD-ELyrY2FM"
      },
      "source": [
        "tipo=[]\n",
        "tipo=df['fuente_tipo_contagio']\n",
        "#Se cuentan los casos según el tipo de contagio\n",
        "e=Counter(tipo)\n",
        "df3 = pd.DataFrame()\n",
        "#Se establecen los elementos y la frecuencia de cada uno\n",
        "df3['Tipo']=e.keys()\n",
        "df3['No. Casos']=e.values()\n",
        "#Se ordenan\n",
        "df3=df3.sort_values(by='No. Casos',ascending=False)"
      ],
      "execution_count": null,
      "outputs": []
    },
    {
      "cell_type": "code",
      "metadata": {
        "id": "nzIEehtuY2FP",
        "outputId": "9586b6a9-38c0-4daa-d17e-fbf011553650",
        "colab": {
          "base_uri": "https://localhost:8080/",
          "height": 264
        }
      },
      "source": [
        "#Se grafica el diagrama de torta \n",
        "plt.pie(df3['No. Casos'], labels=df3['Tipo'], autopct=\"%0.1f %%\")\n",
        "plt.axis(\"equal\")\n",
        "plt.legend()\n",
        "plt.title(\"Casos Totales por tipo de contagio\")\n",
        "plt.savefig('TipoContagio.png')\n",
        "#Se muestra la grafica\n",
        "plt.show()"
      ],
      "execution_count": null,
      "outputs": [
        {
          "output_type": "display_data",
          "data": {
            "image/png": "[encoded data removed]",
            "text/plain": [
              "<Figure size 432x288 with 1 Axes>"
            ]
          },
          "metadata": {
            "tags": []
          }
        }
      ]
    },
    {
      "cell_type": "code",
      "metadata": {
        "id": "OdFWX3L0Y2FT"
      },
      "source": [
        "estado=[]\n",
        "estado=df['estado']\n",
        "#Se cuentan los casos según el estado de los pacientes \n",
        "f=Counter(estado)\n",
        "df4 = pd.DataFrame()\n",
        "#Se establecen los elementos y la frecuencia de cada uno\n",
        "df4['Estado']=f.keys()\n",
        "df4['No. Casos']=f.values()\n",
        "df4=df4.sort_values(by='No. Casos',ascending=False)"
      ],
      "execution_count": null,
      "outputs": []
    },
    {
      "cell_type": "code",
      "metadata": {
        "id": "9ld4tw-FY2FW",
        "outputId": "f01b7e4b-3959-4907-d7bf-d33f39bdad71",
        "colab": {
          "base_uri": "https://localhost:8080/",
          "height": 264
        }
      },
      "source": [
        "#Se grafica el diagrama de torta \n",
        "plt.pie(df4['No. Casos'], labels=df4['Estado'], autopct=\"%0.1f %%\")\n",
        "plt.axis(\"equal\")\n",
        "plt.title(\"Estado de los pacientes\")\n",
        "plt.legend()\n",
        "plt.savefig('EstadoPacientes.png')\n",
        "plt.show()"
      ],
      "execution_count": null,
      "outputs": [
        {
          "output_type": "display_data",
          "data": {
            "image/png": "[encoded data removed]",
            "text/plain": [
              "<Figure size 432x288 with 1 Axes>"
            ]
          },
          "metadata": {
            "tags": []
          }
        }
      ]
    },
    {
      "cell_type": "code",
      "metadata": {
        "id": "wcZ7Dkm2Y2Fa"
      },
      "source": [
        "muertes=[]\n",
        "muertes=df['fecha_muerte']\n",
        "#Se cuentan los casos según la fecha de muerte\n",
        "g=Counter(muertes)\n",
        "df5 = pd.DataFrame()\n",
        "#Se establecen los elementos y la frecuencia de cada uno\n",
        "df5['Muertes']=g.keys()\n",
        "df5['No. Casos']=g.values()\n",
        "df5=df5.sort_values(by='No. Casos',ascending=False)\n",
        "#Se hace una copia del data frame \n",
        "copiamuertes=df5.iloc[1::].copy()"
      ],
      "execution_count": null,
      "outputs": []
    },
    {
      "cell_type": "code",
      "metadata": {
        "id": "447Y7zo0Y2Fe"
      },
      "source": [
        "pais=[]\n",
        "pais=df['pais_viajo_1_nom']\n",
        "#Se cuentan los casos según el país de procedencia \n",
        "h=Counter(pais)\n",
        "df6 = pd.DataFrame()\n",
        "#Se establecen los elementos y la frecuencia de cada uno\n",
        "df6['Pais de Procedencia']=h.keys()\n",
        "df6['No. Casos']=h.values()\n",
        "df6=df6.sort_values(by='No. Casos',ascending=False)\n",
        "#Se hace una copia del data frame \n",
        "df6copy = df6.iloc[1:8].copy()\n",
        "#Se organizan según el número de casos \n",
        "df6copy=df6copy.sort_values(by='No. Casos')\n"
      ],
      "execution_count": null,
      "outputs": []
    },
    {
      "cell_type": "code",
      "metadata": {
        "id": "ezij__aQY2Fh",
        "outputId": "36728f7f-3a4f-44fa-8e3f-42df4dd80675",
        "colab": {
          "base_uri": "https://localhost:8080/",
          "height": 458
        }
      },
      "source": [
        "plt.figure(figsize=(9,7))\n",
        "#Creamos la grafica pasando los valores en el eje X, Y, donde X = No de Casos y Y = País de Procedencia\n",
        "x = df6copy['Pais de Procedencia']\n",
        "y = df6copy['No. Casos']\n",
        "plt.barh(x, y, align='center', alpha=0.5)\n",
        "#añadimos una etiqueta en el eje X\n",
        "plt.xlabel('Número de Casos')\n",
        "plt.title('País de Procedencia')\n",
        "plt.savefig('Pais.png')\n",
        "plt.show()"
      ],
      "execution_count": null,
      "outputs": [
        {
          "output_type": "display_data",
          "data": {
            "image/png": "[encoded data removed]",
            "text/plain": [
              "<Figure size 648x504 with 1 Axes>"
            ]
          },
          "metadata": {
            "tags": [],
            "needs_background": "light"
          }
        }
      ]
    },
    {
      "cell_type": "code",
      "metadata": {
        "id": "XWNV8Mn2Y2Fl",
        "outputId": "ec6cc02e-e866-4fe6-c456-55b0ede527fb",
        "colab": {
          "base_uri": "https://localhost:8080/",
          "height": 295
        }
      },
      "source": [
        "#Se organiza según el número de muertes \n",
        "copiamuertes=copiamuertes.sort_values(by='Muertes')\n",
        "x = copiamuertes['Muertes']\n",
        "y = copiamuertes['No. Casos']\n",
        "#Se grafica\n",
        "plt.plot(x,y)\n",
        "plt.xticks(x,\" \")\n",
        "plt.title('Fallecimientos  ')\n",
        "plt.xlabel('Fecha')\n",
        "plt.ylabel('Muertes')\n",
        "#Se guarda la gráfica como .png\n",
        "plt.savefig('Fallecimientos.png')"
      ],
      "execution_count": null,
      "outputs": [
        {
          "output_type": "display_data",
          "data": {
            "image/png": "[encoded data removed]",
            "text/plain": [
              "<Figure size 432x288 with 1 Axes>"
            ]
          },
          "metadata": {
            "tags": [],
            "needs_background": "light"
          }
        }
      ]
    },
    {
      "cell_type": "code",
      "metadata": {
        "id": "Fk_3nOQ4Y2Fq"
      },
      "source": [
        ""
      ],
      "execution_count": null,
      "outputs": []
    },
    {
      "cell_type": "code",
      "metadata": {
        "id": "E_jfisHBumOt",
        "outputId": "42e0fddf-4596-45fa-963e-9aca5b357b8c",
        "colab": {
          "base_uri": "https://localhost:8080/",
          "height": 482
        }
      },
      "source": [
        "colors = ['#66b3ff','#99ff99','#ffcc99']\n",
        "estadoP = df.groupby('fuente_tipo_contagio').size()\n",
        "estadoP.plot(kind='pie', subplots=True, figsize=(8, 8),colors=colors,autopct=\"%0.1f %%\")\n",
        "plt.title(\"Tipo de contagio\")\n",
        "plt.ylabel(\"\")\n",
        "plt.savefig('TipoDeContagio.png')\n",
        "plt.show()\n"
      ],
      "execution_count": null,
      "outputs": [
        {
          "output_type": "display_data",
          "data": {
            "image/png": "[encoded data removed]",
            "text/plain": [
              "<Figure size 576x576 with 1 Axes>"
            ]
          },
          "metadata": {
            "tags": []
          }
        }
      ]
    },
    {
      "cell_type": "markdown",
      "metadata": {
        "id": "fcWEyvU0FbnY"
      },
      "source": [
        "**Mapa por departamento**\n",
        "\n",
        "\n",
        "> Instalación *geopandas*\n",
        "\n"
      ]
    },
    {
      "cell_type": "code",
      "metadata": {
        "id": "6QzcLWRmHrXu"
      },
      "source": [
        "!pip install geopandas"
      ],
      "execution_count": null,
      "outputs": []
    },
    {
      "cell_type": "code",
      "metadata": {
        "id": "Qo1cNy8UH4pt",
        "outputId": "69aba3c6-c395-47d8-f038-f73a39587e8e",
        "colab": {
          "base_uri": "https://localhost:8080/"
        }
      },
      "source": [
        "from google.colab import drive\n",
        "drive.mount('/gdrive')"
      ],
      "execution_count": null,
      "outputs": [
        {
          "output_type": "stream",
          "text": [
            "Mounted at /gdrive\n"
          ],
          "name": "stdout"
        }
      ]
    },
    {
      "cell_type": "markdown",
      "metadata": {
        "id": "1o7aLH5XHwGi"
      },
      "source": [
        "\n",
        "\n",
        "> Se carga el *geojson* con las figuras de los departamentos\n",
        "\n",
        "\n"
      ]
    },
    {
      "cell_type": "code",
      "metadata": {
        "id": "GbgTtToRHr-2",
        "outputId": "c7b2bb27-01b0-4f86-be88-3ad5b1c3e5e9",
        "colab": {
          "base_uri": "https://localhost:8080/",
          "height": 204
        }
      },
      "source": [
        "import geopandas as gpd\n",
        "import matplotlib.pyplot as plt\n",
        "\n",
        "gdf = gpd.read_file('/gdrive/My Drive/Colab Notebooks/colombia.geo.json')\n",
        "gdf = gdf.sort_values(by='NOMBRE_DPT')\n",
        "gdf = gdf.reset_index(drop=True)\n",
        "gdf.head()"
      ],
      "execution_count": null,
      "outputs": [
        {
          "output_type": "execute_result",
          "data": {
            "text/html": [
              "<div>\n",
              "<style scoped>\n",
              "    .dataframe tbody tr th:only-of-type {\n",
              "        vertical-align: middle;\n",
              "    }\n",
              "\n",
              "    .dataframe tbody tr th {\n",
              "        vertical-align: top;\n",
              "    }\n",
              "\n",
              "    .dataframe thead th {\n",
              "        text-align: right;\n",
              "    }\n",
              "</style>\n",
              "<table border=\"1\" class=\"dataframe\">\n",
              "  <thead>\n",
              "    <tr style=\"text-align: right;\">\n",
              "      <th></th>\n",
              "      <th>DPTO</th>\n",
              "      <th>NOMBRE_DPT</th>\n",
              "      <th>AREA</th>\n",
              "      <th>PERIMETER</th>\n",
              "      <th>HECTARES</th>\n",
              "      <th>geometry</th>\n",
              "    </tr>\n",
              "  </thead>\n",
              "  <tbody>\n",
              "    <tr>\n",
              "      <th>0</th>\n",
              "      <td>91</td>\n",
              "      <td>AMAZONAS</td>\n",
              "      <td>1.100294e+11</td>\n",
              "      <td>2562641.642</td>\n",
              "      <td>1.100294e+07</td>\n",
              "      <td>POLYGON ((-71.38640 0.11860, -71.37610 0.11160...</td>\n",
              "    </tr>\n",
              "    <tr>\n",
              "      <th>1</th>\n",
              "      <td>05</td>\n",
              "      <td>ANTIOQUIA</td>\n",
              "      <td>6.335186e+10</td>\n",
              "      <td>1963728.843</td>\n",
              "      <td>6.335186e+06</td>\n",
              "      <td>POLYGON ((-76.30730 8.61930, -76.29810 8.61640...</td>\n",
              "    </tr>\n",
              "    <tr>\n",
              "      <th>2</th>\n",
              "      <td>81</td>\n",
              "      <td>ARAUCA</td>\n",
              "      <td>2.419638e+10</td>\n",
              "      <td>843446.026</td>\n",
              "      <td>2.419638e+06</td>\n",
              "      <td>POLYGON ((-70.69870 7.05930, -70.69350 7.05290...</td>\n",
              "    </tr>\n",
              "    <tr>\n",
              "      <th>3</th>\n",
              "      <td>88</td>\n",
              "      <td>ARCHIPIELAGO DE SAN ANDRES PROVIDENCIA Y SANTA...</td>\n",
              "      <td>4.960252e+07</td>\n",
              "      <td>71946.251</td>\n",
              "      <td>4.960252e+03</td>\n",
              "      <td>MULTIPOLYGON (((-81.71296 12.59456, -81.71284 ...</td>\n",
              "    </tr>\n",
              "    <tr>\n",
              "      <th>4</th>\n",
              "      <td>08</td>\n",
              "      <td>ATLANTICO</td>\n",
              "      <td>3.360765e+09</td>\n",
              "      <td>240936.172</td>\n",
              "      <td>3.360765e+05</td>\n",
              "      <td>POLYGON ((-74.87060 10.36120, -74.87640 10.343...</td>\n",
              "    </tr>\n",
              "  </tbody>\n",
              "</table>\n",
              "</div>"
            ],
            "text/plain": [
              "  DPTO  ...                                           geometry\n",
              "0   91  ...  POLYGON ((-71.38640 0.11860, -71.37610 0.11160...\n",
              "1   05  ...  POLYGON ((-76.30730 8.61930, -76.29810 8.61640...\n",
              "2   81  ...  POLYGON ((-70.69870 7.05930, -70.69350 7.05290...\n",
              "3   88  ...  MULTIPOLYGON (((-81.71296 12.59456, -81.71284 ...\n",
              "4   08  ...  POLYGON ((-74.87060 10.36120, -74.87640 10.343...\n",
              "\n",
              "[5 rows x 6 columns]"
            ]
          },
          "metadata": {
            "tags": []
          },
          "execution_count": 33
        }
      ]
    },
    {
      "cell_type": "markdown",
      "metadata": {
        "id": "rk1Do1NEIcon"
      },
      "source": [
        "\n",
        "\n",
        "> Se cambia el nombre de ciudades por los del departamento al que pertenezcan\n",
        "\n"
      ]
    },
    {
      "cell_type": "code",
      "metadata": {
        "id": "tpe9gw0dILHe"
      },
      "source": [
        "df = df.replace({'BARRANQUILLA':'ATLANTICO'})\n",
        "df = df.replace({'CARTAGENA':'BOLIVAR'})\n",
        "df = df.replace({'STA MARTA D.E.':'MAGDALENA'})"
      ],
      "execution_count": null,
      "outputs": []
    },
    {
      "cell_type": "code",
      "metadata": {
        "id": "vKTAaCWSIQfH"
      },
      "source": [
        "x=[] \n",
        "x=df['departamento_nom'] #Se llena con la fecha de notificación \n",
        "c=Counter(x) #Se cuentan los datos según la fecha de notificación"
      ],
      "execution_count": null,
      "outputs": []
    },
    {
      "cell_type": "code",
      "metadata": {
        "id": "PY10oyqMIpIc",
        "outputId": "db96ddc9-9082-4066-b0ca-b4ef477cd5d9",
        "colab": {
          "base_uri": "https://localhost:8080/",
          "height": 204
        }
      },
      "source": [
        "df1 = pd.DataFrame() #Se crea una nueva referencia del DataFrame\n",
        "df1['departamento_nom']=c.keys() #Se extraen los elementos únicos\n",
        "df1['No. Casos']=c.values() #Se extrae la frecuencia de cada elemento único\n",
        "df1 = df1.replace({'BOGOTA':'SANTAFE DE BOGOTA D.C'})\n",
        "df1 = df1.replace({'SAN ANDRES':'ARCHIPIELAGO DE SAN ANDRES PROVIDENCIA'})\n",
        "df1 = df1.replace({'GUAJIRA':'LA GUAJIRA'})\n",
        "df1= df1.sort_values(by='departamento_nom') #Se ordenan según el dpto\n",
        "df1 = df1.reset_index(drop=True)\n",
        "df1.head()"
      ],
      "execution_count": null,
      "outputs": [
        {
          "output_type": "execute_result",
          "data": {
            "text/html": [
              "<div>\n",
              "<style scoped>\n",
              "    .dataframe tbody tr th:only-of-type {\n",
              "        vertical-align: middle;\n",
              "    }\n",
              "\n",
              "    .dataframe tbody tr th {\n",
              "        vertical-align: top;\n",
              "    }\n",
              "\n",
              "    .dataframe thead th {\n",
              "        text-align: right;\n",
              "    }\n",
              "</style>\n",
              "<table border=\"1\" class=\"dataframe\">\n",
              "  <thead>\n",
              "    <tr style=\"text-align: right;\">\n",
              "      <th></th>\n",
              "      <th>departamento_nom</th>\n",
              "      <th>No. Casos</th>\n",
              "    </tr>\n",
              "  </thead>\n",
              "  <tbody>\n",
              "    <tr>\n",
              "      <th>0</th>\n",
              "      <td>AMAZONAS</td>\n",
              "      <td>2911</td>\n",
              "    </tr>\n",
              "    <tr>\n",
              "      <th>1</th>\n",
              "      <td>ANTIOQUIA</td>\n",
              "      <td>170819</td>\n",
              "    </tr>\n",
              "    <tr>\n",
              "      <th>2</th>\n",
              "      <td>ARAUCA</td>\n",
              "      <td>3383</td>\n",
              "    </tr>\n",
              "    <tr>\n",
              "      <th>3</th>\n",
              "      <td>ARCHIPIELAGO DE SAN ANDRES PROVIDENCIA</td>\n",
              "      <td>1889</td>\n",
              "    </tr>\n",
              "    <tr>\n",
              "      <th>4</th>\n",
              "      <td>ATLANTICO</td>\n",
              "      <td>72102</td>\n",
              "    </tr>\n",
              "  </tbody>\n",
              "</table>\n",
              "</div>"
            ],
            "text/plain": [
              "                         departamento_nom  No. Casos\n",
              "0                                AMAZONAS       2911\n",
              "1                               ANTIOQUIA     170819\n",
              "2                                  ARAUCA       3383\n",
              "3  ARCHIPIELAGO DE SAN ANDRES PROVIDENCIA       1889\n",
              "4                               ATLANTICO      72102"
            ]
          },
          "metadata": {
            "tags": []
          },
          "execution_count": 36
        }
      ]
    },
    {
      "cell_type": "code",
      "metadata": {
        "id": "Lj27E1IJIxAX",
        "outputId": "0c2348d4-6f7d-42e1-bf86-77449c2fd3af",
        "colab": {
          "base_uri": "https://localhost:8080/",
          "height": 204
        }
      },
      "source": [
        "df1=df1.sort_values(by='departamento_nom') #Se ordenan según el dpto\n",
        "df1 = df1.reset_index(drop=True)\n",
        "gdf = gdf.sort_values(by='NOMBRE_DPT')\n",
        "gdf = gdf.reset_index(drop=True)\n",
        "gdf['No. Casos'] = df1['No. Casos']\n",
        "gdf.head()"
      ],
      "execution_count": null,
      "outputs": [
        {
          "output_type": "execute_result",
          "data": {
            "text/html": [
              "<div>\n",
              "<style scoped>\n",
              "    .dataframe tbody tr th:only-of-type {\n",
              "        vertical-align: middle;\n",
              "    }\n",
              "\n",
              "    .dataframe tbody tr th {\n",
              "        vertical-align: top;\n",
              "    }\n",
              "\n",
              "    .dataframe thead th {\n",
              "        text-align: right;\n",
              "    }\n",
              "</style>\n",
              "<table border=\"1\" class=\"dataframe\">\n",
              "  <thead>\n",
              "    <tr style=\"text-align: right;\">\n",
              "      <th></th>\n",
              "      <th>DPTO</th>\n",
              "      <th>NOMBRE_DPT</th>\n",
              "      <th>AREA</th>\n",
              "      <th>PERIMETER</th>\n",
              "      <th>HECTARES</th>\n",
              "      <th>geometry</th>\n",
              "      <th>No. Casos</th>\n",
              "    </tr>\n",
              "  </thead>\n",
              "  <tbody>\n",
              "    <tr>\n",
              "      <th>0</th>\n",
              "      <td>91</td>\n",
              "      <td>AMAZONAS</td>\n",
              "      <td>1.100294e+11</td>\n",
              "      <td>2562641.642</td>\n",
              "      <td>1.100294e+07</td>\n",
              "      <td>POLYGON ((-71.38640 0.11860, -71.37610 0.11160...</td>\n",
              "      <td>2911</td>\n",
              "    </tr>\n",
              "    <tr>\n",
              "      <th>1</th>\n",
              "      <td>05</td>\n",
              "      <td>ANTIOQUIA</td>\n",
              "      <td>6.335186e+10</td>\n",
              "      <td>1963728.843</td>\n",
              "      <td>6.335186e+06</td>\n",
              "      <td>POLYGON ((-76.30730 8.61930, -76.29810 8.61640...</td>\n",
              "      <td>170819</td>\n",
              "    </tr>\n",
              "    <tr>\n",
              "      <th>2</th>\n",
              "      <td>81</td>\n",
              "      <td>ARAUCA</td>\n",
              "      <td>2.419638e+10</td>\n",
              "      <td>843446.026</td>\n",
              "      <td>2.419638e+06</td>\n",
              "      <td>POLYGON ((-70.69870 7.05930, -70.69350 7.05290...</td>\n",
              "      <td>3383</td>\n",
              "    </tr>\n",
              "    <tr>\n",
              "      <th>3</th>\n",
              "      <td>88</td>\n",
              "      <td>ARCHIPIELAGO DE SAN ANDRES PROVIDENCIA Y SANTA...</td>\n",
              "      <td>4.960252e+07</td>\n",
              "      <td>71946.251</td>\n",
              "      <td>4.960252e+03</td>\n",
              "      <td>MULTIPOLYGON (((-81.71296 12.59456, -81.71284 ...</td>\n",
              "      <td>1889</td>\n",
              "    </tr>\n",
              "    <tr>\n",
              "      <th>4</th>\n",
              "      <td>08</td>\n",
              "      <td>ATLANTICO</td>\n",
              "      <td>3.360765e+09</td>\n",
              "      <td>240936.172</td>\n",
              "      <td>3.360765e+05</td>\n",
              "      <td>POLYGON ((-74.87060 10.36120, -74.87640 10.343...</td>\n",
              "      <td>72102</td>\n",
              "    </tr>\n",
              "  </tbody>\n",
              "</table>\n",
              "</div>"
            ],
            "text/plain": [
              "  DPTO  ... No. Casos\n",
              "0   91  ...      2911\n",
              "1   05  ...    170819\n",
              "2   81  ...      3383\n",
              "3   88  ...      1889\n",
              "4   08  ...     72102\n",
              "\n",
              "[5 rows x 7 columns]"
            ]
          },
          "metadata": {
            "tags": []
          },
          "execution_count": 37
        }
      ]
    },
    {
      "cell_type": "code",
      "metadata": {
        "id": "X954Z2RIIzzz",
        "outputId": "471ec5f0-350e-47aa-bcf9-87e74cffc66d",
        "colab": {
          "base_uri": "https://localhost:8080/",
          "height": 537
        }
      },
      "source": [
        "gdf.plot(column='No. Casos', cmap='YlOrRd', legend=True, figsize=(15,9));\n",
        "plt.savefig('Casos por departamentos Colombia.png') #Se guarda la imagen"
      ],
      "execution_count": null,
      "outputs": [
        {
          "output_type": "display_data",
          "data": {
            "image/png": "[encoded data removed]",
            "text/plain": [
              "<Figure size 1080x648 with 2 Axes>"
            ]
          },
          "metadata": {
            "tags": [],
            "needs_background": "light"
          }
        }
      ]
    },
    {
      "cell_type": "markdown",
      "metadata": {
        "id": "6Ff2RuSpILoM"
      },
      "source": [
        "\n",
        "\n",
        "---\n",
        "\n"
      ]
    },
    {
      "cell_type": "markdown",
      "metadata": {
        "id": "0Ru3JQCe_lvw"
      },
      "source": [
        "# Bogotá\n",
        "\n",
        "\n",
        "\n",
        "\n"
      ]
    },
    {
      "cell_type": "markdown",
      "metadata": {
        "id": "AZWPhccEMV44"
      },
      "source": [
        ">Se obtienen los datos de Bogotá y se guardan en un dataframe\n"
      ]
    },
    {
      "cell_type": "code",
      "metadata": {
        "id": "ioY45oCVnK0h"
      },
      "source": [
        "import pandas as pd\n",
        "from datetime import datetime\n",
        "import matplotlib.pyplot as plt\n",
        "from collections import Counter\n",
        "from urllib.request import urlopen\n",
        "import json\n",
        "\n",
        "url = 'https://datosabiertos.bogota.gov.co/api/3/action/datastore_search?resource_id=b64ba3c4-9e41-41b8-b3fd-2da21d627558&limit=300000'  \n",
        "datos= urlopen(url).read()\n",
        "data= json.loads(datos)\n",
        "resultados = data['result']\n",
        "resultados['records']\n",
        "\n",
        "resultsBta_df = pd.DataFrame.from_records(resultados['records'])\n",
        "bta_df=resultsBta_df"
      ],
      "execution_count": null,
      "outputs": []
    },
    {
      "cell_type": "code",
      "metadata": {
        "id": "TX9bzKo9nXiS"
      },
      "source": [
        "bta_df=bta_df.fillna('No Definido') #Se llenan los datos vacíos\n",
        "tupla = ((\"T00:00:00.000\", \"\"),(\"-\", \"/\"))\n",
        "for c in bta_df.index:\n",
        "    for a, b in tupla:\n",
        "        bta_df['FECHA_DIAGNOSTICO'][c] = bta_df['FECHA_DIAGNOSTICO'][c].replace(a, b)\n",
        "        bta_df['FECHA_INICIO_SINTOMAS'][c] = bta_df['FECHA_INICIO_SINTOMAS'][c].replace(a, b)\n",
        "\n",
        "bta_df.head()"
      ],
      "execution_count": null,
      "outputs": []
    },
    {
      "cell_type": "code",
      "metadata": {
        "id": "98ePYmKi7Gbv"
      },
      "source": [
        "localidades=[] \n",
        "x=bta_df['LOCALIDAD_ASIS']  \n",
        "c=Counter(x) #Se cuentan los datos según las localidades"
      ],
      "execution_count": null,
      "outputs": []
    },
    {
      "cell_type": "code",
      "metadata": {
        "id": "RP5zoVtM7PVV"
      },
      "source": [
        "local = pd.DataFrame() #Se crea una nueva referencia del DataFrame\n",
        "local['Localidades']=c.keys() #Se extraen los elementos únicos\n",
        "local['No. Casos']=c.values() #Se extrae la frecuencia de cada elemento único\n"
      ],
      "execution_count": null,
      "outputs": []
    },
    {
      "cell_type": "code",
      "metadata": {
        "id": "qukr8bhQ7Ta8"
      },
      "source": [
        "import datetime\n",
        "fecha=[] \n",
        "fecha=bta_df['FECHA_DIAGNOSTICO'] #Se llena con la fecha de notificación \n",
        "c=Counter(fecha) #Se cuentan los datos según la fecha de notificación"
      ],
      "execution_count": null,
      "outputs": []
    },
    {
      "cell_type": "code",
      "metadata": {
        "id": "lZu2s2n07hRd"
      },
      "source": [
        "fechaN = pd.DataFrame() #Se crea una nueva referencia del DataFrame\n",
        "fechaN['Fecha']=c.keys() #Se extraen los elementos únicos\n",
        "fechaN['No. Casos']=c.values() #Se extrae la frecuencia de cada elemento único"
      ],
      "execution_count": null,
      "outputs": []
    },
    {
      "cell_type": "code",
      "metadata": {
        "id": "wLZ8mnpG7odI"
      },
      "source": [
        "fechaN=fechaN.sort_values(by='Fecha',ascending=False) #Se ordenan según la fecha"
      ],
      "execution_count": null,
      "outputs": []
    },
    {
      "cell_type": "code",
      "metadata": {
        "id": "LaUy_hb67r9e"
      },
      "source": [
        "plt.figure(figsize=(16,10), dpi= 80)\n",
        "plt.plot('Fecha','No. Casos', data=fechaN, color='tab:red')\n",
        "plt.xticks(x,\"\")\n",
        "plt.title(\"Evolución de Casos\")\n",
        "plt.xlabel(\"Fecha\")\n",
        "plt.ylabel(\"No Casos\")\n",
        "plt.savefig('EvolucionBogota.png')\n"
      ],
      "execution_count": null,
      "outputs": []
    },
    {
      "cell_type": "markdown",
      "metadata": {
        "id": "1DmBpLTNpqLP"
      },
      "source": [
        "\n",
        "\n",
        "> Se cambia al formato de fecha.\n",
        "\n"
      ]
    },
    {
      "cell_type": "code",
      "metadata": {
        "id": "TAJmpd4bnhh_"
      },
      "source": [
        "print(bta_df.dtypes)\n",
        "btaf_df=bta_df\n",
        "btaf_df[\"FECHA_DIAGNOSTICO\"]=pd.to_datetime(btaf_df[\"FECHA_DIAGNOSTICO\"])"
      ],
      "execution_count": null,
      "outputs": []
    },
    {
      "cell_type": "markdown",
      "metadata": {
        "id": "UEnKRmwvpzSZ"
      },
      "source": [
        "\n",
        "\n",
        "> Se establecen los intervalores de las edades\n",
        "\n"
      ]
    },
    {
      "cell_type": "code",
      "metadata": {
        "id": "_xTcln4snQ3n"
      },
      "source": [
        "import pandas as pd\n",
        "pd.__version__\n",
        "bins = [0, 9, 19, 29, 39, 49, 59,69,79,89] #Se establecen los intervalos \n",
        "names = [\"0-9\",\"10-19\",\"20-29\",\"30-39\",\"40-49\",\"50-59\",\"60-69\",\"70-79\",\"80-89\"] #Se establecen los nombres de los intervalores\n",
        "bta_df[\"EDAD\"] = bta_df[\"EDAD\"].astype(float)\n",
        "bta_df[\"EDAD\"] = pd.cut(bta_df[\"EDAD\"],bins,labels=names) #Se filtran los datos por intervalos"
      ],
      "execution_count": null,
      "outputs": []
    },
    {
      "cell_type": "markdown",
      "metadata": {
        "id": "Ukah49_CqR6K"
      },
      "source": [
        "\n",
        "\n",
        ">Se agrupan los datos según la edad y sexo\n",
        "\n"
      ]
    },
    {
      "cell_type": "code",
      "metadata": {
        "id": "VRmYoHwdnvWa"
      },
      "source": [
        "genero_ob=bta_df.groupby(['EDAD','SEXO']).size()\n",
        "genero_ob=genero_ob.reset_index()"
      ],
      "execution_count": null,
      "outputs": []
    },
    {
      "cell_type": "markdown",
      "metadata": {
        "id": "w5f1FZA0qaQS"
      },
      "source": [
        "\n",
        "\n",
        "> Se convierte a una tabla pivote y se grafica.\n",
        "\n"
      ]
    },
    {
      "cell_type": "code",
      "metadata": {
        "id": "hatiGpdPn1Pf",
        "outputId": "2e12a442-dcf8-4b7f-a121-3d62d5a86a1e",
        "colab": {
          "base_uri": "https://localhost:8080/",
          "height": 314
        }
      },
      "source": [
        "genero_ob= pd.pivot_table(genero_ob,columns='SEXO',index='EDAD',values=0)\n",
        "genero_ob.plot(kind=\"bar\",title=\"Género y Edad\",stacked=True)\n",
        "plt.savefig('GeneroEdad.png')"
      ],
      "execution_count": null,
      "outputs": [
        {
          "output_type": "display_data",
          "data": {
            "image/png": "[encoded data removed]",
            "text/plain": [
              "<Figure size 432x288 with 1 Axes>"
            ]
          },
          "metadata": {
            "tags": [],
            "needs_background": "light"
          }
        }
      ]
    },
    {
      "cell_type": "markdown",
      "metadata": {
        "id": "Fr_xEqMVKouL"
      },
      "source": [
        "\n",
        "\n",
        "> Localidades con mayor número de contagios\n",
        "\n"
      ]
    },
    {
      "cell_type": "code",
      "metadata": {
        "id": "YEdRiXy2JC3O",
        "outputId": "15a1d915-0e95-42fa-86e6-59f8888f345f",
        "colab": {
          "base_uri": "https://localhost:8080/",
          "height": 513
        }
      },
      "source": [
        "import matplotlib\n",
        "import numpy as np\n",
        "\n",
        "local=local.sort_values(by='No. Casos',ascending=False) #Se ordena según el número de casos \n",
        "#Se hace una copia del data frame \n",
        "local1 = local.copy()\n",
        "#Se organizan según el número de casos \n",
        "local1=local1.sort_values(by='No. Casos')\n",
        "plt.figure(figsize=(10,8)) #Se establece el tamaño de la figura\n",
        "#Colocamos etiquetas a los ejes\n",
        "plt.xlabel(\"Localidades\")                       \n",
        "plt.ylabel(\"Número de Casos\") \n",
        "\n",
        "\n",
        "#Creamos la grafica de barras utilizando 'Localidad' como eje X y 'Número de casos' como eje y.\n",
        "x = local1['Localidades'].iloc[1:21]\n",
        "y = local1['No. Casos'].iloc[1:21]\n",
        "plt.title(\"Localidades con mayor número de Contagiados\")\n",
        "plt.barh(x, y, align='center', alpha=0.5)\n",
        "#Finalmente mostramos la grafica con el metodo show()\n",
        "plt.savefig('Localidades.png')\n",
        "plt.show()"
      ],
      "execution_count": null,
      "outputs": [
        {
          "output_type": "display_data",
          "data": {
            "image/png": "[encoded data removed]",
            "text/plain": [
              "<Figure size 720x576 with 1 Axes>"
            ]
          },
          "metadata": {
            "tags": [],
            "needs_background": "light"
          }
        }
      ]
    },
    {
      "cell_type": "markdown",
      "metadata": {
        "id": "ynOhxFcDJCE2"
      },
      "source": [
        "**Mapa por localidades de Bogotá**"
      ]
    },
    {
      "cell_type": "code",
      "metadata": {
        "id": "SwAzeK11JI9q"
      },
      "source": [
        "from google.colab import drive\n",
        "drive.mount('/gdrive')"
      ],
      "execution_count": null,
      "outputs": []
    },
    {
      "cell_type": "code",
      "metadata": {
        "id": "7WS4K3XBJNCJ",
        "outputId": "9b7c2a7f-35c3-4737-9e5e-481691cdf4d5",
        "colab": {
          "base_uri": "https://localhost:8080/",
          "height": 323
        }
      },
      "source": [
        "import geopandas as gpd\n",
        "import matplotlib.pyplot as plt\n",
        "\n",
        "gdf = gpd.read_file('/gdrive/My Drive/Colab Notebooks/poligonos-localidades.geojson')\n",
        "gdf.head()"
      ],
      "execution_count": null,
      "outputs": [
        {
          "output_type": "stream",
          "text": [
            "WARNING:fiona.ogrext:Skipping field geo_point_2d: invalid type 3\n"
          ],
          "name": "stderr"
        },
        {
          "output_type": "execute_result",
          "data": {
            "text/html": [
              "<div>\n",
              "<style scoped>\n",
              "    .dataframe tbody tr th:only-of-type {\n",
              "        vertical-align: middle;\n",
              "    }\n",
              "\n",
              "    .dataframe tbody tr th {\n",
              "        vertical-align: top;\n",
              "    }\n",
              "\n",
              "    .dataframe thead th {\n",
              "        text-align: right;\n",
              "    }\n",
              "</style>\n",
              "<table border=\"1\" class=\"dataframe\">\n",
              "  <thead>\n",
              "    <tr style=\"text-align: right;\">\n",
              "      <th></th>\n",
              "      <th>Acto administrativo de la localidad</th>\n",
              "      <th>Nombre de la localidad</th>\n",
              "      <th>Area de la localidad</th>\n",
              "      <th>Identificador unico de la localidad</th>\n",
              "      <th>geometry</th>\n",
              "    </tr>\n",
              "  </thead>\n",
              "  <tbody>\n",
              "    <tr>\n",
              "      <th>0</th>\n",
              "      <td>Acuerdo 117 de 2003</td>\n",
              "      <td>ANTONIO NARIÑO</td>\n",
              "      <td>4879543,386426</td>\n",
              "      <td>15</td>\n",
              "      <td>MULTIPOLYGON (((-74.13075 4.59335, -74.13075 4...</td>\n",
              "    </tr>\n",
              "    <tr>\n",
              "      <th>1</th>\n",
              "      <td>Acuerdo 8 de 1977</td>\n",
              "      <td>TEUSAQUILLO</td>\n",
              "      <td>14193168,127546</td>\n",
              "      <td>13</td>\n",
              "      <td>MULTIPOLYGON (((-74.09372 4.66607, -74.10342 4...</td>\n",
              "    </tr>\n",
              "    <tr>\n",
              "      <th>2</th>\n",
              "      <td>Acuerdo 9 de 1986</td>\n",
              "      <td>SUMAPAZ</td>\n",
              "      <td>780968757,719072</td>\n",
              "      <td>20</td>\n",
              "      <td>MULTIPOLYGON (((-74.20584 4.26966, -74.20567 4...</td>\n",
              "    </tr>\n",
              "    <tr>\n",
              "      <th>3</th>\n",
              "      <td>Acuerdo 117 de 2003</td>\n",
              "      <td>SAN CRISTOBAL</td>\n",
              "      <td>49098548,52917</td>\n",
              "      <td>04</td>\n",
              "      <td>MULTIPOLYGON (((-74.02900 4.55830, -74.02892 4...</td>\n",
              "    </tr>\n",
              "    <tr>\n",
              "      <th>4</th>\n",
              "      <td>Acuerdo 8 de 1977</td>\n",
              "      <td>USAQUEN</td>\n",
              "      <td>65315721,646621</td>\n",
              "      <td>01</td>\n",
              "      <td>MULTIPOLYGON (((-74.01089 4.66358, -74.01077 4...</td>\n",
              "    </tr>\n",
              "  </tbody>\n",
              "</table>\n",
              "</div>"
            ],
            "text/plain": [
              "  Acto administrativo de la localidad  ...                                           geometry\n",
              "0                 Acuerdo 117 de 2003  ...  MULTIPOLYGON (((-74.13075 4.59335, -74.13075 4...\n",
              "1                   Acuerdo 8 de 1977  ...  MULTIPOLYGON (((-74.09372 4.66607, -74.10342 4...\n",
              "2                   Acuerdo 9 de 1986  ...  MULTIPOLYGON (((-74.20584 4.26966, -74.20567 4...\n",
              "3                 Acuerdo 117 de 2003  ...  MULTIPOLYGON (((-74.02900 4.55830, -74.02892 4...\n",
              "4                   Acuerdo 8 de 1977  ...  MULTIPOLYGON (((-74.01089 4.66358, -74.01077 4...\n",
              "\n",
              "[5 rows x 5 columns]"
            ]
          },
          "metadata": {
            "tags": []
          },
          "execution_count": 40
        }
      ]
    },
    {
      "cell_type": "code",
      "metadata": {
        "id": "iprQpus6JRV-",
        "outputId": "d427d27a-f806-476e-8d77-30f71c390782",
        "colab": {
          "base_uri": "https://localhost:8080/",
          "height": 306
        }
      },
      "source": [
        "gdf=gdf.sort_values(by='Nombre de la localidad') #Se ordenan según la localidad\n",
        "gdf = gdf.reset_index(drop=True)\n",
        "gdf.head()"
      ],
      "execution_count": null,
      "outputs": [
        {
          "output_type": "execute_result",
          "data": {
            "text/html": [
              "<div>\n",
              "<style scoped>\n",
              "    .dataframe tbody tr th:only-of-type {\n",
              "        vertical-align: middle;\n",
              "    }\n",
              "\n",
              "    .dataframe tbody tr th {\n",
              "        vertical-align: top;\n",
              "    }\n",
              "\n",
              "    .dataframe thead th {\n",
              "        text-align: right;\n",
              "    }\n",
              "</style>\n",
              "<table border=\"1\" class=\"dataframe\">\n",
              "  <thead>\n",
              "    <tr style=\"text-align: right;\">\n",
              "      <th></th>\n",
              "      <th>Acto administrativo de la localidad</th>\n",
              "      <th>Nombre de la localidad</th>\n",
              "      <th>Area de la localidad</th>\n",
              "      <th>Identificador unico de la localidad</th>\n",
              "      <th>geometry</th>\n",
              "    </tr>\n",
              "  </thead>\n",
              "  <tbody>\n",
              "    <tr>\n",
              "      <th>0</th>\n",
              "      <td>Acuerdo 117 de 2003</td>\n",
              "      <td>ANTONIO NARIÑO</td>\n",
              "      <td>4879543,386426</td>\n",
              "      <td>15</td>\n",
              "      <td>MULTIPOLYGON (((-74.13075 4.59335, -74.13075 4...</td>\n",
              "    </tr>\n",
              "    <tr>\n",
              "      <th>1</th>\n",
              "      <td>Acuerdo 8 de 1977</td>\n",
              "      <td>BARRIOS UNIDOS</td>\n",
              "      <td>11903448,204872</td>\n",
              "      <td>12</td>\n",
              "      <td>MULTIPOLYGON (((-74.05725 4.68684, -74.05725 4...</td>\n",
              "    </tr>\n",
              "    <tr>\n",
              "      <th>2</th>\n",
              "      <td>Acuerdo 14 de 1983</td>\n",
              "      <td>BOSA</td>\n",
              "      <td>23933196,086856</td>\n",
              "      <td>07</td>\n",
              "      <td>MULTIPOLYGON (((-74.18567 4.64705, -74.18568 4...</td>\n",
              "    </tr>\n",
              "    <tr>\n",
              "      <th>3</th>\n",
              "      <td>Acuerdo 117 de 2003</td>\n",
              "      <td>CANDELARIA</td>\n",
              "      <td>2060242,920452</td>\n",
              "      <td>17</td>\n",
              "      <td>MULTIPOLYGON (((-74.06621 4.60317, -74.06621 4...</td>\n",
              "    </tr>\n",
              "    <tr>\n",
              "      <th>4</th>\n",
              "      <td>Acuerdo 8 de 1977</td>\n",
              "      <td>CHAPINERO</td>\n",
              "      <td>38155857,205938</td>\n",
              "      <td>02</td>\n",
              "      <td>MULTIPOLYGON (((-74.01089 4.66358, -74.01090 4...</td>\n",
              "    </tr>\n",
              "  </tbody>\n",
              "</table>\n",
              "</div>"
            ],
            "text/plain": [
              "  Acto administrativo de la localidad  ...                                           geometry\n",
              "0                 Acuerdo 117 de 2003  ...  MULTIPOLYGON (((-74.13075 4.59335, -74.13075 4...\n",
              "1                   Acuerdo 8 de 1977  ...  MULTIPOLYGON (((-74.05725 4.68684, -74.05725 4...\n",
              "2                  Acuerdo 14 de 1983  ...  MULTIPOLYGON (((-74.18567 4.64705, -74.18568 4...\n",
              "3                 Acuerdo 117 de 2003  ...  MULTIPOLYGON (((-74.06621 4.60317, -74.06621 4...\n",
              "4                   Acuerdo 8 de 1977  ...  MULTIPOLYGON (((-74.01089 4.66358, -74.01090 4...\n",
              "\n",
              "[5 rows x 5 columns]"
            ]
          },
          "metadata": {
            "tags": []
          },
          "execution_count": 42
        }
      ]
    },
    {
      "cell_type": "code",
      "metadata": {
        "id": "X-rxyUz5JctZ",
        "outputId": "3bf2f7db-a673-489b-84b5-32e69b7a6d7c",
        "colab": {
          "base_uri": "https://localhost:8080/"
        }
      },
      "source": [
        "localidades=[] \n",
        "x=bta_df['LOCALIDAD_ASIS']  \n",
        "c=Counter(x) #Se cuentan los datos según las localidades\n",
        "local = pd.DataFrame() #Se crea una nueva referencia del DataFrame\n",
        "local['Localidades']=c.keys() #Se extraen los elementos únicos\n",
        "local['No. Casos']=c.values() #Se extrae la frecuencia de cada elemento único\n",
        "local = local.replace({'La Candelaria':'Candelaria'})\n",
        "local = local.replace({'Fuera de Bogotá':'Sumapaz'})\n",
        "local = local.sort_values(by='Localidades')\n",
        "local = local.reset_index(drop=True)\n",
        "local = local.drop([14], axis=0)\n",
        "local = local.reset_index(drop=True)\n",
        "local['Localidades']"
      ],
      "execution_count": null,
      "outputs": [
        {
          "output_type": "execute_result",
          "data": {
            "text/plain": [
              "0         Antonio Nariño\n",
              "1         Barrios Unidos\n",
              "2                   Bosa\n",
              "3             Candelaria\n",
              "4              Chapinero\n",
              "5         Ciudad Bolívar\n",
              "6               Engativá\n",
              "7               Fontibón\n",
              "8                Kennedy\n",
              "9           Los Mártires\n",
              "10         Puente Aranda\n",
              "11    Rafael Uribe Uribe\n",
              "12         San Cristóbal\n",
              "13              Santa Fe\n",
              "14                  Suba\n",
              "15               Sumapaz\n",
              "16           Teusaquillo\n",
              "17            Tunjuelito\n",
              "18               Usaquén\n",
              "19                  Usme\n",
              "20                  None\n",
              "Name: Localidades, dtype: object"
            ]
          },
          "metadata": {
            "tags": []
          },
          "execution_count": 45
        }
      ]
    },
    {
      "cell_type": "code",
      "metadata": {
        "id": "C_qiqqDtJ0JF",
        "outputId": "bee35bac-74e4-4d6b-d11f-51d5fddc7ba5",
        "colab": {
          "base_uri": "https://localhost:8080/",
          "height": 306
        }
      },
      "source": [
        "gdf['No. Casos'] = local['No. Casos']\n",
        "gdf.head()"
      ],
      "execution_count": null,
      "outputs": [
        {
          "output_type": "execute_result",
          "data": {
            "text/html": [
              "<div>\n",
              "<style scoped>\n",
              "    .dataframe tbody tr th:only-of-type {\n",
              "        vertical-align: middle;\n",
              "    }\n",
              "\n",
              "    .dataframe tbody tr th {\n",
              "        vertical-align: top;\n",
              "    }\n",
              "\n",
              "    .dataframe thead th {\n",
              "        text-align: right;\n",
              "    }\n",
              "</style>\n",
              "<table border=\"1\" class=\"dataframe\">\n",
              "  <thead>\n",
              "    <tr style=\"text-align: right;\">\n",
              "      <th></th>\n",
              "      <th>Acto administrativo de la localidad</th>\n",
              "      <th>Nombre de la localidad</th>\n",
              "      <th>Area de la localidad</th>\n",
              "      <th>Identificador unico de la localidad</th>\n",
              "      <th>geometry</th>\n",
              "      <th>No. Casos</th>\n",
              "    </tr>\n",
              "  </thead>\n",
              "  <tbody>\n",
              "    <tr>\n",
              "      <th>0</th>\n",
              "      <td>Acuerdo 117 de 2003</td>\n",
              "      <td>ANTONIO NARIÑO</td>\n",
              "      <td>4879543,386426</td>\n",
              "      <td>15</td>\n",
              "      <td>MULTIPOLYGON (((-74.13075 4.59335, -74.13075 4...</td>\n",
              "      <td>4428</td>\n",
              "    </tr>\n",
              "    <tr>\n",
              "      <th>1</th>\n",
              "      <td>Acuerdo 8 de 1977</td>\n",
              "      <td>BARRIOS UNIDOS</td>\n",
              "      <td>11903448,204872</td>\n",
              "      <td>12</td>\n",
              "      <td>MULTIPOLYGON (((-74.05725 4.68684, -74.05725 4...</td>\n",
              "      <td>6281</td>\n",
              "    </tr>\n",
              "    <tr>\n",
              "      <th>2</th>\n",
              "      <td>Acuerdo 14 de 1983</td>\n",
              "      <td>BOSA</td>\n",
              "      <td>23933196,086856</td>\n",
              "      <td>07</td>\n",
              "      <td>MULTIPOLYGON (((-74.18567 4.64705, -74.18568 4...</td>\n",
              "      <td>27018</td>\n",
              "    </tr>\n",
              "    <tr>\n",
              "      <th>3</th>\n",
              "      <td>Acuerdo 117 de 2003</td>\n",
              "      <td>CANDELARIA</td>\n",
              "      <td>2060242,920452</td>\n",
              "      <td>17</td>\n",
              "      <td>MULTIPOLYGON (((-74.06621 4.60317, -74.06621 4...</td>\n",
              "      <td>1349</td>\n",
              "    </tr>\n",
              "    <tr>\n",
              "      <th>4</th>\n",
              "      <td>Acuerdo 8 de 1977</td>\n",
              "      <td>CHAPINERO</td>\n",
              "      <td>38155857,205938</td>\n",
              "      <td>02</td>\n",
              "      <td>MULTIPOLYGON (((-74.01089 4.66358, -74.01090 4...</td>\n",
              "      <td>6808</td>\n",
              "    </tr>\n",
              "  </tbody>\n",
              "</table>\n",
              "</div>"
            ],
            "text/plain": [
              "  Acto administrativo de la localidad  ... No. Casos\n",
              "0                 Acuerdo 117 de 2003  ...      4428\n",
              "1                   Acuerdo 8 de 1977  ...      6281\n",
              "2                  Acuerdo 14 de 1983  ...     27018\n",
              "3                 Acuerdo 117 de 2003  ...      1349\n",
              "4                   Acuerdo 8 de 1977  ...      6808\n",
              "\n",
              "[5 rows x 6 columns]"
            ]
          },
          "metadata": {
            "tags": []
          },
          "execution_count": 46
        }
      ]
    },
    {
      "cell_type": "code",
      "metadata": {
        "id": "FgxUW892J3zb",
        "outputId": "53509d35-2403-4beb-a688-649bda0c9493",
        "colab": {
          "base_uri": "https://localhost:8080/",
          "height": 537
        }
      },
      "source": [
        "gdf.plot(column='No. Casos', cmap='YlOrRd', legend=True, figsize=(15,9));\n",
        "plt.savefig('Casos por localidad Bogota.png') #Se guarda la imagen"
      ],
      "execution_count": null,
      "outputs": [
        {
          "output_type": "display_data",
          "data": {
            "image/png": "[encoded data removed]",
            "text/plain": [
              "<Figure size 1080x648 with 2 Axes>"
            ]
          },
          "metadata": {
            "tags": [],
            "needs_background": "light"
          }
        }
      ]
    }
  ]
}